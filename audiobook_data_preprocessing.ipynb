{
  "nbformat": 4,
  "nbformat_minor": 0,
  "metadata": {
    "colab": {
      "name": "audiobook-data-preprocessing.ipynb",
      "provenance": [],
      "collapsed_sections": []
    },
    "kernelspec": {
      "name": "python3",
      "display_name": "Python 3"
    },
    "language_info": {
      "name": "python"
    }
  },
  "cells": [
    {
      "cell_type": "markdown",
      "metadata": {
        "id": "u7S-D3wNGDQQ"
      },
      "source": [
        "# **Audiobook Purchase Prediction**\n",
        "## **Project description**\n",
        "\n",
        "The given data comes from an Audiobook app. Each customer in the database has made a purchase at least once, that's why he/she is in the database. We want to create an algorithm based on our available data that can predict if a customer will buy again from the Audiobook company.\n",
        "\n",
        "The main idea is that if a customer has a low probability of coming back, there is no reason to spend any money on advertizing to him/her. If we can focus our efforts ONLY on customers that are likely to convert again, we can make great savings. Moreover, this model can identify the most important metrics for a customer to come back again. Identifying new customers creates value and growth opportunities.\n",
        "\n",
        "the data is summarized in a .csv file.\n",
        "\n",
        "### **Variables:**\n",
        "\n",
        "*   Customer ID\n",
        "*   Book length in mins_avg (average of all purchases)\n",
        "*   Book length in minutes_sum (sum of all purchases. If equal to Book length in mins_avg, thus customers made 1 purchase only.)\n",
        "*   Price Paid_avg (average of all purchases)\n",
        "*   Price paid_sum (sum of all purchases. If equal to Price Paid_avg, thus customers made 1 purchase only.)\n",
        "*   Review (Boolean variable. 1 = Customer left a review)\n",
        "*   Review (out of 10)\n",
        "*   Total minutes listened\n",
        "*   Completion (from 0 to 1) => Total minutes listened / Total lengths of books the person has purchased\n",
        "*   Support requests (number)\n",
        "*   Last visited minus purchase date (in days) => measures the difference between the last time a person interacted with the platform and the first purchase date. The bigger the difference, the bigger the engagement.\n",
        "\n",
        "So these variables are going to be the inputs of our model (excluding customer ID, as it is completely arbitrary).\n",
        "\n",
        "### **Targets:**\n",
        "\n",
        "The targets are a Boolean variable (0 or 1). We are taking a period of 2 years in our inputs, and the next 6 months as targets.<br />\n",
        "In fact, we are predicting if based on the last 2 years of activity and engagement, a customer will convert in the next 6 months. If they do not convert after 6 months, chances are they have gone to a competitor or di not like the Audiobook way of digesting information.\n",
        "\n",
        "**This is a supervised classification problem with two classes: won't buy and will buy, represented by 0s and 1s.**"
      ]
    },
    {
      "cell_type": "code",
      "metadata": {
        "id": "Z7_6FraUN3iY"
      },
      "source": [
        "# import required packages\n",
        "import numpy as np\n",
        "import pandas as pd\n",
        "import matplotlib.pyplot as plt\n",
        "import seaborn as sns\n",
        "from sklearn import preprocessing"
      ],
      "execution_count": null,
      "outputs": []
    },
    {
      "cell_type": "code",
      "metadata": {
        "colab": {
          "base_uri": "https://localhost:8080/",
          "height": 198
        },
        "id": "YVEcyeBmOHN8",
        "outputId": "8ee88378-6f6f-4b72-f81a-8cfb1bc4566e"
      },
      "source": [
        "# import data\n",
        "column_names = [\"customer_id\", \"book_length_mins_avg\", \"book_length_mins_sum\",\n",
        "                \"price_paid_avg\", \"price_paid_sum\", \"left_review\", \"review\",\n",
        "                \"total_mins_listened\", \"completion\", \"support_requests\",\n",
        "                \"last_visited_minus_purchase_date\", \"label\"]\n",
        "\n",
        "audiobook_data = pd.read_csv(\"audiobooks-data.csv\", header=None)\n",
        "audiobook_data.columns = column_names\n",
        "audiobook_data.head()"
      ],
      "execution_count": null,
      "outputs": [
        {
          "output_type": "execute_result",
          "data": {
            "text/html": [
              "<div>\n",
              "<style scoped>\n",
              "    .dataframe tbody tr th:only-of-type {\n",
              "        vertical-align: middle;\n",
              "    }\n",
              "\n",
              "    .dataframe tbody tr th {\n",
              "        vertical-align: top;\n",
              "    }\n",
              "\n",
              "    .dataframe thead th {\n",
              "        text-align: right;\n",
              "    }\n",
              "</style>\n",
              "<table border=\"1\" class=\"dataframe\">\n",
              "  <thead>\n",
              "    <tr style=\"text-align: right;\">\n",
              "      <th></th>\n",
              "      <th>customer_id</th>\n",
              "      <th>book_length_mins_avg</th>\n",
              "      <th>book_length_mins_sum</th>\n",
              "      <th>price_paid_avg</th>\n",
              "      <th>price_paid_sum</th>\n",
              "      <th>left_review</th>\n",
              "      <th>review</th>\n",
              "      <th>total_mins_listened</th>\n",
              "      <th>completion</th>\n",
              "      <th>support_requests</th>\n",
              "      <th>last_visited_minus_purchase_date</th>\n",
              "      <th>label</th>\n",
              "    </tr>\n",
              "  </thead>\n",
              "  <tbody>\n",
              "    <tr>\n",
              "      <th>0</th>\n",
              "      <td>994</td>\n",
              "      <td>1620.0</td>\n",
              "      <td>1620</td>\n",
              "      <td>19.73</td>\n",
              "      <td>19.73</td>\n",
              "      <td>1</td>\n",
              "      <td>10.00</td>\n",
              "      <td>0.99</td>\n",
              "      <td>1603.8</td>\n",
              "      <td>5</td>\n",
              "      <td>92</td>\n",
              "      <td>0</td>\n",
              "    </tr>\n",
              "    <tr>\n",
              "      <th>1</th>\n",
              "      <td>1143</td>\n",
              "      <td>2160.0</td>\n",
              "      <td>2160</td>\n",
              "      <td>5.33</td>\n",
              "      <td>5.33</td>\n",
              "      <td>0</td>\n",
              "      <td>8.91</td>\n",
              "      <td>0.00</td>\n",
              "      <td>0.0</td>\n",
              "      <td>0</td>\n",
              "      <td>0</td>\n",
              "      <td>0</td>\n",
              "    </tr>\n",
              "    <tr>\n",
              "      <th>2</th>\n",
              "      <td>2059</td>\n",
              "      <td>2160.0</td>\n",
              "      <td>2160</td>\n",
              "      <td>5.33</td>\n",
              "      <td>5.33</td>\n",
              "      <td>0</td>\n",
              "      <td>8.91</td>\n",
              "      <td>0.00</td>\n",
              "      <td>0.0</td>\n",
              "      <td>0</td>\n",
              "      <td>388</td>\n",
              "      <td>0</td>\n",
              "    </tr>\n",
              "    <tr>\n",
              "      <th>3</th>\n",
              "      <td>2882</td>\n",
              "      <td>1620.0</td>\n",
              "      <td>1620</td>\n",
              "      <td>5.96</td>\n",
              "      <td>5.96</td>\n",
              "      <td>0</td>\n",
              "      <td>8.91</td>\n",
              "      <td>0.42</td>\n",
              "      <td>680.4</td>\n",
              "      <td>1</td>\n",
              "      <td>129</td>\n",
              "      <td>0</td>\n",
              "    </tr>\n",
              "    <tr>\n",
              "      <th>4</th>\n",
              "      <td>3342</td>\n",
              "      <td>2160.0</td>\n",
              "      <td>2160</td>\n",
              "      <td>5.33</td>\n",
              "      <td>5.33</td>\n",
              "      <td>0</td>\n",
              "      <td>8.91</td>\n",
              "      <td>0.22</td>\n",
              "      <td>475.2</td>\n",
              "      <td>0</td>\n",
              "      <td>361</td>\n",
              "      <td>0</td>\n",
              "    </tr>\n",
              "  </tbody>\n",
              "</table>\n",
              "</div>"
            ],
            "text/plain": [
              "   customer_id  book_length_mins_avg  ...  last_visited_minus_purchase_date  label\n",
              "0          994                1620.0  ...                                92      0\n",
              "1         1143                2160.0  ...                                 0      0\n",
              "2         2059                2160.0  ...                               388      0\n",
              "3         2882                1620.0  ...                               129      0\n",
              "4         3342                2160.0  ...                               361      0\n",
              "\n",
              "[5 rows x 12 columns]"
            ]
          },
          "metadata": {
            "tags": []
          },
          "execution_count": 2
        }
      ]
    },
    {
      "cell_type": "code",
      "metadata": {
        "colab": {
          "base_uri": "https://localhost:8080/"
        },
        "id": "PJj-oubjQ-v8",
        "outputId": "fa032090-b601-4017-cf3a-3f30cc33edd4"
      },
      "source": [
        "if audiobook_data.shape[0] == audiobook_data[\"customer_id\"].nunique():\n",
        "  print(f\"The Audiobook data contains information about {audiobook_data.shape[0]} customers.\")\n",
        "else:\n",
        "  print(\"Check for duplicates in customer_id column.\")"
      ],
      "execution_count": null,
      "outputs": [
        {
          "output_type": "stream",
          "text": [
            "The Audiobook data contains information about 14084 customers.\n"
          ],
          "name": "stdout"
        }
      ]
    },
    {
      "cell_type": "code",
      "metadata": {
        "colab": {
          "base_uri": "https://localhost:8080/"
        },
        "id": "j-BDy_LxS1Qh",
        "outputId": "e4b897a3-d609-4f82-8bb5-20cebcf1684f"
      },
      "source": [
        "print(audiobook_data.info())"
      ],
      "execution_count": null,
      "outputs": [
        {
          "output_type": "stream",
          "text": [
            "<class 'pandas.core.frame.DataFrame'>\n",
            "RangeIndex: 14084 entries, 0 to 14083\n",
            "Data columns (total 12 columns):\n",
            " #   Column                            Non-Null Count  Dtype  \n",
            "---  ------                            --------------  -----  \n",
            " 0   customer_id                       14084 non-null  int64  \n",
            " 1   book_length_mins_avg              14084 non-null  float64\n",
            " 2   book_length_mins_sum              14084 non-null  int64  \n",
            " 3   price_paid_avg                    14084 non-null  float64\n",
            " 4   price_paid_sum                    14084 non-null  float64\n",
            " 5   left_review                       14084 non-null  int64  \n",
            " 6   review                            14084 non-null  float64\n",
            " 7   total_mins_listened               14084 non-null  float64\n",
            " 8   completion                        14084 non-null  float64\n",
            " 9   support_requests                  14084 non-null  int64  \n",
            " 10  last_visited_minus_purchase_date  14084 non-null  int64  \n",
            " 11  label                             14084 non-null  int64  \n",
            "dtypes: float64(6), int64(6)\n",
            "memory usage: 1.3 MB\n",
            "None\n"
          ],
          "name": "stdout"
        }
      ]
    },
    {
      "cell_type": "code",
      "metadata": {
        "colab": {
          "base_uri": "https://localhost:8080/",
          "height": 424
        },
        "id": "8RkV3Fsyax0q",
        "outputId": "bd73765c-c04e-4131-d344-319bdb57dcf9"
      },
      "source": [
        "print(f\"Label distribution (in %):\\n{round(audiobook_data['label'].value_counts() * 100 / audiobook_data.shape[0], 2)}\")\n",
        "\n",
        "# plot label distribution\n",
        "plt.figure(figsize=(10,5))\n",
        "sns.countplot(x=\"label\", data=audiobook_data)\n",
        "plt.title(\"Label distribution\", size=14)\n",
        "sns.despine()\n",
        "plt.show()"
      ],
      "execution_count": null,
      "outputs": [
        {
          "output_type": "stream",
          "text": [
            "Label distribution (in %):\n",
            "0    84.12\n",
            "1    15.88\n",
            "Name: label, dtype: float64\n"
          ],
          "name": "stdout"
        },
        {
          "output_type": "display_data",
          "data": {
            "image/png": "[encoded data removed]",
            "text/plain": [
              "<Figure size 720x360 with 1 Axes>"
            ]
          },
          "metadata": {
            "tags": [],
            "needs_background": "light"
          }
        }
      ]
    },
    {
      "cell_type": "code",
      "metadata": {
        "colab": {
          "base_uri": "https://localhost:8080/",
          "height": 350
        },
        "id": "w9qKDbyRYTcO",
        "outputId": "522dfcb9-cfe8-4965-d385-e5374e0f2203"
      },
      "source": [
        "fig, axes = plt.subplots(1, 2, figsize=(16, 5), sharey=False, sharex=False)\n",
        "sns.kdeplot(x=\"book_length_mins_avg\", data=audiobook_data, hue=\"label\", shade=True, ax=axes[0])\n",
        "sns.kdeplot(x=\"price_paid_avg\", data=audiobook_data, hue=\"label\", shade=True, ax=axes[1])\n",
        "axes[0].set_title(\"Distribution of average of book length per label (in minutes)\")\n",
        "axes[0].set_xlabel(\"Average book length (in minutes)\")\n",
        "axes[1].set_title(\"Distribution of average price paid per label\")\n",
        "axes[1].set_xlabel(\"Average price paid\")\n",
        "axes[1].set_xlim(0, 30)\n",
        "plt.show()"
      ],
      "execution_count": null,
      "outputs": [
        {
          "output_type": "display_data",
          "data": {
            "image/png": "[encoded data removed]",
            "text/plain": [
              "<Figure size 1152x360 with 2 Axes>"
            ]
          },
          "metadata": {
            "tags": [],
            "needs_background": "light"
          }
        }
      ]
    },
    {
      "cell_type": "markdown",
      "metadata": {
        "id": "jOXuH9zXbwW4"
      },
      "source": [
        "Average Book Length and Average Price Paid for both labels are following the same distribution pattern. Nevertheless, the dataset is clearly unbalanced, as label 0 represents 84% of our dataset. This could affect the behavior of our future model. We need to balance the dataset consequently."
      ]
    },
    {
      "cell_type": "markdown",
      "metadata": {
        "id": "tU7nrDBYOOU2"
      },
      "source": [
        "## Balancing the dataset"
      ]
    },
    {
      "cell_type": "code",
      "metadata": {
        "id": "aD_ZEcxfN9Mn"
      },
      "source": [
        "# store input data into a numpy array excluding cutomer_id and label columns\n",
        "unscaled_inputs = audiobook_data.iloc[:, 1:-1].values\n",
        "\n",
        "# store target data into a separate numpy array\n",
        "targets = audiobook_data.iloc[:, -1].values"
      ],
      "execution_count": null,
      "outputs": []
    },
    {
      "cell_type": "code",
      "metadata": {
        "id": "rZflee6PX9XY"
      },
      "source": [
        "# When the data was collected it was actually arranged by date\n",
        "# Shuffle the indices of the data, so the data is not arranged in any way when we feed it.\n",
        "# Since we will be batching, we want the data to be as randomly spread out as possible\n",
        "shuffled_indices = np.arange(unscaled_inputs.shape[0])\n",
        "np.random.shuffle(shuffled_indices)\n",
        "\n",
        "# Use the shuffled indices to shuffle the inputs and targets.\n",
        "unscaled_inputs = unscaled_inputs[shuffled_indices]\n",
        "targets = targets[shuffled_indices]"
      ],
      "execution_count": null,
      "outputs": []
    },
    {
      "cell_type": "markdown",
      "metadata": {
        "id": "0zUzqYl5Sote"
      },
      "source": [
        "We are going to keep as many 0s as 1s and delete the others to get a balanced dataset."
      ]
    },
    {
      "cell_type": "code",
      "metadata": {
        "id": "PrmaIYqqRztQ"
      },
      "source": [
        "# count number of 1s in targets\n",
        "num_of_ones = int(np.sum(targets))\n",
        "zero_targets_counter = 0\n",
        "indices_to_remove = []\n",
        "\n",
        "# once number of 0s reached number of 1s, we delete remaining rows with label 0\n",
        "for i in range(targets.shape[0]):\n",
        "  if targets[i] == 0:\n",
        "    zero_targets_counter += 1\n",
        "    if zero_targets_counter > num_of_ones:\n",
        "      indices_to_remove.append(i)\n",
        "\n",
        "unscaled_inputs_equal_priors = np.delete(unscaled_inputs, indices_to_remove, axis=0)\n",
        "targets_equal_priors = np.delete(targets, indices_to_remove, axis=0)"
      ],
      "execution_count": null,
      "outputs": []
    },
    {
      "cell_type": "markdown",
      "metadata": {
        "id": "UFJU5PGvUMP_"
      },
      "source": [
        "## Standardize the inputs"
      ]
    },
    {
      "cell_type": "code",
      "metadata": {
        "id": "XrESSrphUDX4"
      },
      "source": [
        "# center to the mean and scale to unit variance\n",
        "scaled_inputs = preprocessing.scale(unscaled_inputs_equal_priors)"
      ],
      "execution_count": null,
      "outputs": []
    },
    {
      "cell_type": "markdown",
      "metadata": {
        "id": "AS6OZ0cpUZat"
      },
      "source": [
        "## Shuffle the data"
      ]
    },
    {
      "cell_type": "code",
      "metadata": {
        "id": "Ybj-B0VqUYkO"
      },
      "source": [
        "# shuffle data again to avoid that all 1s are stored in train set\n",
        "shuffled_indices = np.arange(scaled_inputs.shape[0])\n",
        "np.random.shuffle(shuffled_indices)\n",
        "\n",
        "shuffled_inputs = scaled_inputs[shuffled_indices]\n",
        "shuffled_targets = targets_equal_priors[shuffled_indices]"
      ],
      "execution_count": null,
      "outputs": []
    },
    {
      "cell_type": "markdown",
      "metadata": {
        "id": "zK58XFX5U8dh"
      },
      "source": [
        "## Split the dataset into train, validation and test"
      ]
    },
    {
      "cell_type": "code",
      "metadata": {
        "colab": {
          "base_uri": "https://localhost:8080/"
        },
        "id": "yODph_7AU6hF",
        "outputId": "b9e3b945-c122-42ab-eaeb-93992be3f488"
      },
      "source": [
        "sample_count = shuffled_inputs.shape[0]\n",
        "\n",
        "# define size of train, validation and test sets\n",
        "train_samples_count = int(0.8 * sample_count)\n",
        "validation_samples_count = int(0.1 * sample_count)\n",
        "test_samples_count = sample_count - train_samples_count - validation_samples_count\n",
        "\n",
        "# build train set with shuffled data\n",
        "train_inputs = shuffled_inputs[:train_samples_count]\n",
        "train_targets = shuffled_targets[:train_samples_count]\n",
        "\n",
        "# build validation set with shuffled data\n",
        "validation_inputs = shuffled_inputs[train_samples_count:train_samples_count + validation_samples_count]\n",
        "validation_targets = shuffled_targets[train_samples_count:train_samples_count + validation_samples_count]\n",
        "\n",
        "# build test set with shuffled data\n",
        "test_inputs = shuffled_inputs[train_samples_count + validation_samples_count:]\n",
        "test_targets = shuffled_targets[train_samples_count + validation_samples_count:]\n",
        "\n",
        "# print label distribution\n",
        "print(f\"Train set:\\nNumber of 1s: {np.sum(train_targets)} | Set size: {train_samples_count} | % of 1s: {np.sum(train_targets) / train_samples_count}\")\n",
        "print(\"-------------\")\n",
        "print(f\"Validation set:\\nNumber of 1s: {np.sum(validation_targets)} | Set size: {validation_samples_count} | % of 1s: {np.sum(validation_targets) / validation_samples_count}\")\n",
        "print(\"-------------\")\n",
        "print(f\"Test set:\\nNumber of 1s: {np.sum(test_targets)} | Set size: {test_samples_count} | % of 1s: {np.sum(test_targets) / test_samples_count}\")"
      ],
      "execution_count": null,
      "outputs": [
        {
          "output_type": "stream",
          "text": [
            "Train set:\n",
            "Number of 1s: 1765 | Set size: 3579 | % of 1s: 0.49315451243364067\n",
            "-------------\n",
            "Validation set:\n",
            "Number of 1s: 229 | Set size: 447 | % of 1s: 0.5123042505592841\n",
            "-------------\n",
            "Test set:\n",
            "Number of 1s: 243 | Set size: 448 | % of 1s: 0.5424107142857143\n"
          ],
          "name": "stdout"
        }
      ]
    },
    {
      "cell_type": "markdown",
      "metadata": {
        "id": "jzk2GdWp7krZ"
      },
      "source": [
        "<p>The dataset is now pretty well balanced !</p>\n",
        "\n",
        "<p>Let's save the three datasets in .npz format to use them for our future algorithms.<br />\n",
        "Each time we run this notebook, we will process the data once again (forgetting the previous preprocessing), so training, validation and test datasets will contain different samples.</p>"
      ]
    },
    {
      "cell_type": "code",
      "metadata": {
        "id": "HImdSN4dV55Y"
      },
      "source": [
        "# Save the three datasets in *.npz.\n",
        "np.savez(\"audiobooks-data-train\", inputs=train_inputs, targets=train_targets)\n",
        "np.savez(\"audiobooks-data-validation\", inputs=validation_inputs, targets=validation_targets)\n",
        "np.savez(\"audiobooks-data-test\", inputs=test_inputs, targets=test_targets)"
      ],
      "execution_count": null,
      "outputs": []
    },
    {
      "cell_type": "markdown",
      "metadata": {
        "id": "h-mkHH498Ue4"
      },
      "source": [
        "We are going to build a Deep Learning model in a separate notebook using these .npz files."
      ]
    }
  ]
}